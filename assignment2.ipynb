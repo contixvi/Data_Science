{
 "cells": [
  {
   "cell_type": "markdown",
   "id": "bed7e43b",
   "metadata": {},
   "source": [
    "# Array creation"
   ]
  },
  {
   "cell_type": "markdown",
   "id": "0ca8c879",
   "metadata": {},
   "source": [
    "Create a 1-dimensional array of integers from 1 to 10."
   ]
  },
  {
   "cell_type": "code",
   "execution_count": 1,
   "id": "6f410c79",
   "metadata": {},
   "outputs": [],
   "source": [
    "import numpy as np"
   ]
  },
  {
   "cell_type": "code",
   "execution_count": 8,
   "id": "56258a5f",
   "metadata": {},
   "outputs": [
    {
     "data": {
      "text/plain": [
       "array([ 1,  2,  3,  4,  5,  6,  7,  8,  9, 10])"
      ]
     },
     "execution_count": 8,
     "metadata": {},
     "output_type": "execute_result"
    }
   ],
   "source": [
    "my_array = np.array(range(1,11))\n",
    "my_array"
   ]
  },
  {
   "cell_type": "code",
   "execution_count": 9,
   "id": "13bb5eeb",
   "metadata": {},
   "outputs": [
    {
     "data": {
      "text/plain": [
       "numpy.ndarray"
      ]
     },
     "execution_count": 9,
     "metadata": {},
     "output_type": "execute_result"
    }
   ],
   "source": [
    "type(my_array)"
   ]
  },
  {
   "cell_type": "markdown",
   "id": "12ab3064",
   "metadata": {},
   "source": [
    "Create a 2-dimensional array with random float values of shape (3, 4)."
   ]
  },
  {
   "cell_type": "code",
   "execution_count": 10,
   "id": "5205f7db",
   "metadata": {},
   "outputs": [
    {
     "data": {
      "text/plain": [
       "array([[0.81888235, 0.32730121, 0.43712398, 0.06610783],\n",
       "       [0.01160988, 0.91878587, 0.24575382, 0.2464967 ],\n",
       "       [0.97115076, 0.42578571, 0.20855709, 0.97858441]])"
      ]
     },
     "execution_count": 10,
     "metadata": {},
     "output_type": "execute_result"
    }
   ],
   "source": [
    "np.random.rand(3,4)"
   ]
  },
  {
   "cell_type": "markdown",
   "id": "75ddbcdd",
   "metadata": {},
   "source": [
    "Create a 3-dimensional array of zeros with shape (2, 3, 4)."
   ]
  },
  {
   "cell_type": "code",
   "execution_count": 14,
   "id": "0e228209",
   "metadata": {},
   "outputs": [
    {
     "data": {
      "text/plain": [
       "array([[[0, 0, 0, 0],\n",
       "        [0, 0, 0, 0],\n",
       "        [0, 0, 0, 0]],\n",
       "\n",
       "       [[0, 0, 0, 0],\n",
       "        [0, 0, 0, 0],\n",
       "        [0, 0, 0, 0]]])"
      ]
     },
     "execution_count": 14,
     "metadata": {},
     "output_type": "execute_result"
    }
   ],
   "source": [
    "np.zeros([2,3,4],dtype = int)"
   ]
  },
  {
   "cell_type": "markdown",
   "id": "fd81348a",
   "metadata": {},
   "source": [
    "# Array Operations"
   ]
  },
  {
   "cell_type": "markdown",
   "id": "be40a49b",
   "metadata": {},
   "source": [
    "Given two 1-dimensional arrays, perform element-wise addition,\n",
    "subtraction, multiplication, and division."
   ]
  },
  {
   "cell_type": "code",
   "execution_count": 15,
   "id": "12f917a8",
   "metadata": {},
   "outputs": [
    {
     "name": "stdout",
     "output_type": "stream",
     "text": [
      "Addition: [ 7  9 11 13 15]\n",
      "Subtraction: [-5 -5 -5 -5 -5]\n",
      "Multiplication: [ 6 14 24 36 50]\n",
      "Division: [0.16666667 0.28571429 0.375      0.44444444 0.5       ]\n"
     ]
    }
   ],
   "source": [
    "\n",
    "array1 = np.array([1, 2, 3, 4, 5])\n",
    "array2 = np.array([6, 7, 8, 9, 10])\n",
    "\n",
    "# addition\n",
    "addition = array1 + array2\n",
    "\n",
    "# subtraction\n",
    "subtraction = array1 - array2\n",
    "\n",
    "# multiplication\n",
    "multiplication = array1 * array2\n",
    "\n",
    "# division\n",
    "division = array1 / array2\n",
    "\n",
    "print(\"Addition:\", addition)\n",
    "print(\"Subtraction:\", subtraction)\n",
    "print(\"Multiplication:\", multiplication)\n",
    "print(\"Division:\", division)"
   ]
  },
  {
   "cell_type": "markdown",
   "id": "740c8a2c",
   "metadata": {},
   "source": [
    "Calculate the mean, median, and standard deviation of a given 1-\n",
    "dimensional array."
   ]
  },
  {
   "cell_type": "code",
   "execution_count": 16,
   "id": "d9ac4a49",
   "metadata": {},
   "outputs": [
    {
     "name": "stdout",
     "output_type": "stream",
     "text": [
      "Mean: 3.0\n",
      "Median: 3.0\n",
      "Standard Deviation: 1.4142135623730951\n"
     ]
    }
   ],
   "source": [
    "#mean\n",
    "mean = np.mean(array1)\n",
    "\n",
    "#median\n",
    "median = np.median(array1)\n",
    "\n",
    "#standard deviation\n",
    "std_deviation = np.std(array1)\n",
    "\n",
    "print(\"Mean:\", mean)\n",
    "print(\"Median:\", median)\n",
    "print(\"Standard Deviation:\", std_deviation)"
   ]
  },
  {
   "cell_type": "markdown",
   "id": "c6db200b",
   "metadata": {},
   "source": [
    "Reshape a 1-dimensional array into a 2-dimensional array of shape (3,\n",
    "4)."
   ]
  },
  {
   "cell_type": "code",
   "execution_count": 22,
   "id": "241cfe19",
   "metadata": {},
   "outputs": [
    {
     "name": "stdout",
     "output_type": "stream",
     "text": [
      "Reshaped Array:\n",
      " [[ 1  2  3  4]\n",
      " [ 5  6  7  8]\n",
      " [ 9 10 11 12]]\n"
     ]
    }
   ],
   "source": [
    "array1 = np.array([1, 2, 3, 4, 5, 6, 7, 8, 9, 10, 11, 12])\n",
    "reshaped_array = array1.reshape(3, 4)\n",
    "\n",
    "print(\"Reshaped Array:\\n\", reshaped_array)\n"
   ]
  },
  {
   "cell_type": "markdown",
   "id": "10307d9f",
   "metadata": {},
   "source": [
    "# 3. Array Indexing and Slicing:"
   ]
  },
  {
   "cell_type": "markdown",
   "id": "3d67dc61",
   "metadata": {},
   "source": [
    "Extract the first row and last column of a 2-dimensional array."
   ]
  },
  {
   "cell_type": "code",
   "execution_count": 25,
   "id": "f9e91420",
   "metadata": {},
   "outputs": [
    {
     "name": "stdout",
     "output_type": "stream",
     "text": [
      "First Row: [1 2 3 4]\n",
      "Last Column: [ 4  8 12]\n"
     ]
    }
   ],
   "source": [
    "array = np.array([[1, 2, 3, 4],\n",
    "                    [5, 6, 7, 8],\n",
    "                    [9, 10, 11, 12]])\n",
    "first_row = array[0, :]\n",
    "last_column = array[:, -1]\n",
    "\n",
    "print(\"First Row:\", first_row)\n",
    "print(\"Last Column:\", last_column)\n"
   ]
  },
  {
   "cell_type": "markdown",
   "id": "059fab45",
   "metadata": {},
   "source": [
    "Reverse the Order of Elements in a 1-Dimensional Array"
   ]
  },
  {
   "cell_type": "code",
   "execution_count": 23,
   "id": "412e5ec6",
   "metadata": {},
   "outputs": [
    {
     "data": {
      "text/plain": [
       "array([5, 4, 3, 2, 1])"
      ]
     },
     "execution_count": 23,
     "metadata": {},
     "output_type": "execute_result"
    }
   ],
   "source": [
    "array1d = np.array([1, 2, 3, 4, 5])\n",
    "\n",
    "\n",
    "reversed_array = array1d[::-1]\n",
    "\n",
    "reversed_array"
   ]
  },
  {
   "cell_type": "markdown",
   "id": "b50f294d",
   "metadata": {},
   "source": [
    "Select elements from a 2-dimensional array that satisfy a specific\n",
    "condition (e.g., values greater than a certain threshold)."
   ]
  },
  {
   "cell_type": "code",
   "execution_count": 26,
   "id": "decb4742",
   "metadata": {},
   "outputs": [
    {
     "data": {
      "text/plain": [
       "array([ 6,  7,  8,  9, 10, 11, 12])"
      ]
     },
     "execution_count": 26,
     "metadata": {},
     "output_type": "execute_result"
    }
   ],
   "source": [
    "array[array>5]"
   ]
  },
  {
   "cell_type": "markdown",
   "id": "93cbe8b8",
   "metadata": {},
   "source": [
    "## 4. Array Broadcasting:"
   ]
  },
  {
   "cell_type": "markdown",
   "id": "d923172a",
   "metadata": {},
   "source": [
    "Add a scalar value to each element of a 2-dimensional array."
   ]
  },
  {
   "cell_type": "code",
   "execution_count": 27,
   "id": "13fcecff",
   "metadata": {},
   "outputs": [
    {
     "data": {
      "text/plain": [
       "array([[ 6,  7,  8,  9],\n",
       "       [10, 11, 12, 13],\n",
       "       [14, 15, 16, 17]])"
      ]
     },
     "execution_count": 27,
     "metadata": {},
     "output_type": "execute_result"
    }
   ],
   "source": [
    "scalar = 5\n",
    "added_array = array +scalar\n",
    "added_array"
   ]
  },
  {
   "cell_type": "markdown",
   "id": "719b20e0",
   "metadata": {},
   "source": [
    "Multiply a 1-Dimensional Array with a 2-Dimensional Array Using Broadcasting"
   ]
  },
  {
   "cell_type": "code",
   "execution_count": 28,
   "id": "f4b9cf3e",
   "metadata": {},
   "outputs": [
    {
     "data": {
      "text/plain": [
       "array([[ 1,  4,  9, 16],\n",
       "       [ 5, 12, 21, 32],\n",
       "       [ 9, 20, 33, 48]])"
      ]
     },
     "execution_count": 28,
     "metadata": {},
     "output_type": "execute_result"
    }
   ],
   "source": [
    "array1d = np.array([1, 2, 3, 4])\n",
    "array2d = np.array([[1, 2, 3, 4],\n",
    "                    [5, 6, 7, 8],\n",
    "                    [9, 10, 11, 12]])\n",
    "\n",
    "result_array = array2d * array1d\n",
    "result_array"
   ]
  },
  {
   "cell_type": "markdown",
   "id": "72ca008d",
   "metadata": {},
   "source": [
    "# 5. Linear Algebra:"
   ]
  },
  {
   "cell_type": "markdown",
   "id": "9747ef82",
   "metadata": {},
   "source": [
    "Calculate the dot product of two 1-dimensional arrays."
   ]
  },
  {
   "cell_type": "code",
   "execution_count": 29,
   "id": "4f98c28b",
   "metadata": {},
   "outputs": [
    {
     "data": {
      "text/plain": [
       "32"
      ]
     },
     "execution_count": 29,
     "metadata": {},
     "output_type": "execute_result"
    }
   ],
   "source": [
    "array1 = np.array([1, 2, 3])\n",
    "array2 = np.array([4, 5, 6])\n",
    "\n",
    "dot_product = np.dot(array1, array2)\n",
    "dot_product"
   ]
  },
  {
   "cell_type": "markdown",
   "id": "b07bb506",
   "metadata": {},
   "source": [
    "Compute the Matrix Multiplication of Two 2-Dimensional Arrays"
   ]
  },
  {
   "cell_type": "code",
   "execution_count": 30,
   "id": "225991d1",
   "metadata": {},
   "outputs": [
    {
     "name": "stdout",
     "output_type": "stream",
     "text": [
      "Matrix Product:\n",
      " [[19 22]\n",
      " [43 50]]\n"
     ]
    }
   ],
   "source": [
    "matrix1 = np.array([[1, 2],\n",
    "                    [3, 4]])\n",
    "\n",
    "matrix2 = np.array([[5, 6],\n",
    "                    [7, 8]])\n",
    "\n",
    "\n",
    "matrix_product = np.matmul(matrix1, matrix2)\n",
    "\n",
    "print(\"Matrix Product:\\n\", matrix_product)"
   ]
  },
  {
   "cell_type": "markdown",
   "id": "336fdf6a",
   "metadata": {},
   "source": [
    "Find the Inverse and Determinant of a Square Matrix"
   ]
  },
  {
   "cell_type": "code",
   "execution_count": 31,
   "id": "c47b0a75",
   "metadata": {},
   "outputs": [
    {
     "name": "stdout",
     "output_type": "stream",
     "text": [
      "Determinant: -2.0000000000000004\n",
      "Inverse Matrix:\n",
      " [[-2.   1. ]\n",
      " [ 1.5 -0.5]]\n"
     ]
    }
   ],
   "source": [
    "square_matrix = np.array([[1, 2],\n",
    "                          [3, 4]])\n",
    "determinant = np.linalg.det(square_matrix)\n",
    "inverse_matrix = np.linalg.inv(square_matrix)\n",
    "\n",
    "print(\"Determinant:\", determinant)\n",
    "print(\"Inverse Matrix:\\n\", inverse_matrix)"
   ]
  },
  {
   "cell_type": "code",
   "execution_count": null,
   "id": "c7734a79",
   "metadata": {},
   "outputs": [],
   "source": []
  }
 ],
 "metadata": {
  "kernelspec": {
   "display_name": "Python 3 (ipykernel)",
   "language": "python",
   "name": "python3"
  },
  "language_info": {
   "codemirror_mode": {
    "name": "ipython",
    "version": 3
   },
   "file_extension": ".py",
   "mimetype": "text/x-python",
   "name": "python",
   "nbconvert_exporter": "python",
   "pygments_lexer": "ipython3",
   "version": "3.11.7"
  }
 },
 "nbformat": 4,
 "nbformat_minor": 5
}
