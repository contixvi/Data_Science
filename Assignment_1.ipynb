{
 "cells": [
  {
   "cell_type": "markdown",
   "id": "9385ce36",
   "metadata": {},
   "source": [
    "# 1.MoviesList\n",
    "  Create a list of your favorite movies and print it. Then, append a new     movie to the list and print the updated list.\n"
   ]
  },
  {
   "cell_type": "code",
   "execution_count": 40,
   "id": "e90059f1",
   "metadata": {},
   "outputs": [
    {
     "name": "stdout",
     "output_type": "stream",
     "text": [
      "['shawshanks redemption', 'godfather', 'the pianist']\n"
     ]
    }
   ],
   "source": [
    "moviesList = ['shawshanks redemption','godfather','the pianist']\n",
    "print(moviesList)"
   ]
  },
  {
   "cell_type": "code",
   "execution_count": 41,
   "id": "2ed8a8a9",
   "metadata": {},
   "outputs": [],
   "source": [
    "moviesList.append('Alice in Wonderland')"
   ]
  },
  {
   "cell_type": "code",
   "execution_count": 42,
   "id": "99f1c8ba",
   "metadata": {},
   "outputs": [
    {
     "name": "stdout",
     "output_type": "stream",
     "text": [
      "['shawshanks redemption', 'godfather', 'the pianist', 'Alice in Wonderland']\n"
     ]
    }
   ],
   "source": [
    "print(moviesList)"
   ]
  },
  {
   "cell_type": "markdown",
   "id": "eeefeebf",
   "metadata": {},
   "source": [
    "# 2.Sum of integers in a list\n",
    "Create a list of integers from 1 to 10 and print it. Calculate the sum of all the numbers in\n",
    "the list and print the result.\n"
   ]
  },
  {
   "cell_type": "code",
   "execution_count": 6,
   "id": "a98add43",
   "metadata": {},
   "outputs": [
    {
     "name": "stdout",
     "output_type": "stream",
     "text": [
      "[1, 2, 3, 4, 5, 6, 7, 8, 9, 10]\n"
     ]
    }
   ],
   "source": [
    "integers = [1,2,3,4,5,6,7,8,9,10]\n",
    "print(integers)"
   ]
  },
  {
   "cell_type": "code",
   "execution_count": 11,
   "id": "2f75a908",
   "metadata": {},
   "outputs": [
    {
     "name": "stdout",
     "output_type": "stream",
     "text": [
      "55\n"
     ]
    }
   ],
   "source": [
    "print(sum(integers))"
   ]
  },
  {
   "cell_type": "markdown",
   "id": "6c7e29ff",
   "metadata": {},
   "source": [
    "# 3.\n",
    "Create a list of mixed data types including strings, integers, and floats and print it. Remove\n",
    "the first element from the list and print the modified list.\n"
   ]
  },
  {
   "cell_type": "code",
   "execution_count": 9,
   "id": "435bffe1",
   "metadata": {},
   "outputs": [
    {
     "name": "stdout",
     "output_type": "stream",
     "text": [
      "['Subodh', 21, 24.5, 'kathmandu']\n"
     ]
    }
   ],
   "source": [
    "mixedList = ['Subodh',21,24.50,'kathmandu']\n",
    "print(mixedList)"
   ]
  },
  {
   "cell_type": "code",
   "execution_count": 10,
   "id": "81e32811",
   "metadata": {},
   "outputs": [],
   "source": [
    "modifiedList = mixedList.pop(0)\n"
   ]
  },
  {
   "cell_type": "code",
   "execution_count": 13,
   "id": "a754ec94",
   "metadata": {},
   "outputs": [
    {
     "name": "stdout",
     "output_type": "stream",
     "text": [
      "Subodh\n",
      "[21, 24.5, 'kathmandu']\n"
     ]
    }
   ],
   "source": [
    "print(modifiedList)\n",
    "print(mixedList)"
   ]
  },
  {
   "cell_type": "markdown",
   "id": "e319d1f3",
   "metadata": {},
   "source": [
    "# 4.\n",
    "Create a tuple containing the names of the days of the week and print it. Access and print\n",
    "the name of the third day."
   ]
  },
  {
   "cell_type": "code",
   "execution_count": 14,
   "id": "c3ead5b9",
   "metadata": {},
   "outputs": [
    {
     "name": "stdout",
     "output_type": "stream",
     "text": [
      "('Sunday', 'Monday', 'Tuesday', 'Wednesday', 'Thursday', 'Friday', 'Saturday')\n"
     ]
    }
   ],
   "source": [
    "days = ('Sunday','Monday','Tuesday','Wednesday','Thursday','Friday','Saturday')\n",
    "print(days)"
   ]
  },
  {
   "cell_type": "code",
   "execution_count": 15,
   "id": "8cb0f44b",
   "metadata": {},
   "outputs": [
    {
     "name": "stdout",
     "output_type": "stream",
     "text": [
      "Tuesday\n"
     ]
    }
   ],
   "source": [
    "Third_day = days[2]\n",
    "print(Third_day)"
   ]
  },
  {
   "cell_type": "markdown",
   "id": "c9d4c741",
   "metadata": {},
   "source": [
    "# 5.\n",
    "Create a tuple of your favorite colors and print it. Check if a certain color is present in the\n",
    "tuple and print the result.\n"
   ]
  },
  {
   "cell_type": "code",
   "execution_count": 23,
   "id": "a14b3cb2",
   "metadata": {},
   "outputs": [
    {
     "name": "stdout",
     "output_type": "stream",
     "text": [
      "pink is present\n"
     ]
    }
   ],
   "source": [
    "colors = ('red','green','white','black','pink') \n",
    "check_color ='pink'\n",
    "if check_color in colors:\n",
    "    print(f'{check_color} is present')\n",
    "else:\n",
    "    print(f'{check_color} is absent')"
   ]
  },
  {
   "cell_type": "markdown",
   "id": "fdbac82b",
   "metadata": {},
   "source": [
    "# 6.\n",
    "Create a dictionary representing the information of a book with keys \"title\", \"author\", and\n",
    "\"year\" and print it. Update the year of the book and print the updated dictionary."
   ]
  },
  {
   "cell_type": "code",
   "execution_count": 24,
   "id": "f7b5f100",
   "metadata": {},
   "outputs": [
    {
     "name": "stdout",
     "output_type": "stream",
     "text": [
      "{'title': 'Crime and punishment', 'Author': 'Fyodor Dostoevsky', 'Year': 1890}\n"
     ]
    }
   ],
   "source": [
    "book = {'title':'Crime and punishment',\n",
    "       'Author':'Fyodor Dostoevsky',\n",
    "       'Year':1890}\n",
    "print(book)"
   ]
  },
  {
   "cell_type": "code",
   "execution_count": 27,
   "id": "f07d239b",
   "metadata": {},
   "outputs": [],
   "source": [
    "book['Year']=1880"
   ]
  },
  {
   "cell_type": "code",
   "execution_count": 28,
   "id": "ed23d843",
   "metadata": {},
   "outputs": [
    {
     "name": "stdout",
     "output_type": "stream",
     "text": [
      "{'title': 'Crime and punishment', 'Author': 'Fyodor Dostoevsky', 'Year': 1880}\n"
     ]
    }
   ],
   "source": [
    "print(book)"
   ]
  },
  {
   "cell_type": "markdown",
   "id": "ef44dcf0",
   "metadata": {},
   "source": [
    "## 7.\n",
    "Create a dictionary containing the names of fruits as keys and their corresponding colors\n",
    "as values and print it. Add a new fruit-color pair to the dictionary and print the updated\n",
    "dictionary.\n"
   ]
  },
  {
   "cell_type": "code",
   "execution_count": 29,
   "id": "e28f1145",
   "metadata": {},
   "outputs": [
    {
     "name": "stdout",
     "output_type": "stream",
     "text": [
      "{'pomergranate': 'red', 'watermelon': 'red & green & black', 'banana': 'pink', 'haru': 'red'}\n"
     ]
    }
   ],
   "source": [
    "fruits = {'pomergranate':'red',\n",
    "         'watermelon':'red & green & black',\n",
    "         'banana':'pink',\n",
    "         'haru':'red'}\n",
    "print(fruits)"
   ]
  },
  {
   "cell_type": "code",
   "execution_count": 30,
   "id": "e03a4bd9",
   "metadata": {},
   "outputs": [],
   "source": [
    "fruits.update({'strawberry':'red'})"
   ]
  },
  {
   "cell_type": "code",
   "execution_count": 31,
   "id": "5bca3af1",
   "metadata": {},
   "outputs": [
    {
     "name": "stdout",
     "output_type": "stream",
     "text": [
      "{'pomergranate': 'red', 'watermelon': 'red & green & black', 'banana': 'pink', 'haru': 'red', 'strawberry': 'red'}\n"
     ]
    }
   ],
   "source": [
    "print(fruits)"
   ]
  },
  {
   "cell_type": "markdown",
   "id": "caedb8bf",
   "metadata": {},
   "source": [
    "## 8.\n",
    "Create a dictionary representing the population of different cities with keys as city names\n",
    "and values as population numbers and print it. Remove a city from the dictionary and print\n",
    "the modified dictionary.\n"
   ]
  },
  {
   "cell_type": "code",
   "execution_count": 34,
   "id": "9d48678d",
   "metadata": {},
   "outputs": [
    {
     "name": "stdout",
     "output_type": "stream",
     "text": [
      "{'Buenos Aires': 653087594, 'Kathmandu': 9000000, 'Bariloche': 984622, 'novito': 3000000000000}\n"
     ]
    }
   ],
   "source": [
    "city = {'Buenos Aires':653087594,\n",
    "       'Kathmandu':9000000,\n",
    "       'Bariloche':984622,\n",
    "       'novito':3000000000000}\n",
    "print(city)"
   ]
  },
  {
   "cell_type": "code",
   "execution_count": 36,
   "id": "b48b3ed5",
   "metadata": {},
   "outputs": [],
   "source": [
    "del city['Kathmandu']"
   ]
  },
  {
   "cell_type": "code",
   "execution_count": 37,
   "id": "c4acdca5",
   "metadata": {},
   "outputs": [
    {
     "name": "stdout",
     "output_type": "stream",
     "text": [
      "{'Buenos Aires': 653087594, 'Bariloche': 984622, 'novito': 3000000000000}\n"
     ]
    }
   ],
   "source": [
    "print(city)"
   ]
  },
  {
   "cell_type": "code",
   "execution_count": null,
   "id": "a986a54e",
   "metadata": {},
   "outputs": [],
   "source": []
  }
 ],
 "metadata": {
  "kernelspec": {
   "display_name": "Python 3 (ipykernel)",
   "language": "python",
   "name": "python3"
  },
  "language_info": {
   "codemirror_mode": {
    "name": "ipython",
    "version": 3
   },
   "file_extension": ".py",
   "mimetype": "text/x-python",
   "name": "python",
   "nbconvert_exporter": "python",
   "pygments_lexer": "ipython3",
   "version": "3.11.7"
  }
 },
 "nbformat": 4,
 "nbformat_minor": 5
}
